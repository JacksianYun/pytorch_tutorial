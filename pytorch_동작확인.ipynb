{
  "nbformat": 4,
  "nbformat_minor": 0,
  "metadata": {
    "colab": {
      "name": "pytorch 동작확인.ipynb",
      "version": "0.3.2",
      "provenance": [],
      "include_colab_link": true
    },
    "kernelspec": {
      "name": "python3",
      "display_name": "Python 3"
    },
    "accelerator": "GPU"
  },
  "cells": [
    {
      "cell_type": "markdown",
      "metadata": {
        "id": "view-in-github",
        "colab_type": "text"
      },
      "source": [
        "<a href=\"https://colab.research.google.com/github/JacksianYun/pytorch_tutorial/blob/master/pytorch_%EB%8F%99%EC%9E%91%ED%99%95%EC%9D%B8.ipynb\" target=\"_parent\"><img src=\"https://colab.research.google.com/assets/colab-badge.svg\" alt=\"Open In Colab\"/></a>"
      ]
    },
    {
      "metadata": {
        "id": "QCrzOktoh1K4",
        "colab_type": "code",
        "colab": {
          "base_uri": "https://localhost:8080/",
          "height": 35
        },
        "outputId": "cd7aa650-6cea-4a49-9143-8e0f0e7ed9d3"
      },
      "cell_type": "code",
      "source": [
        "# http://pytorch.org/\n",
        "from os.path import exists\n",
        "from wheel.pep425tags import get_abbr_impl, get_impl_ver, get_abi_tag\n",
        "platform = '{}{}-{}'.format(get_abbr_impl(), get_impl_ver(), get_abi_tag())\n",
        "cuda_output = !ldconfig -p|grep cudart.so|sed -e 's/.*\\.\\([0-9]*\\)\\.\\([0-9]*\\)$/cu\\1\\2/'\n",
        "accelerator = cuda_output[0] if exists('/dev/nvidia0') else 'cpu'\n",
        "\n",
        "!pip install -q http://download.pytorch.org/whl/{accelerator}/torch-0.4.1-{platform}-linux_x86_64.whl torchvision\n",
        "import torch\n",
        "\n",
        "torch.cuda.is_available()"
      ],
      "execution_count": 1,
      "outputs": [
        {
          "output_type": "execute_result",
          "data": {
            "text/plain": [
              "True"
            ]
          },
          "metadata": {
            "tags": []
          },
          "execution_count": 1
        }
      ]
    },
    {
      "metadata": {
        "id": "roKIBvL3iCyh",
        "colab_type": "code",
        "colab": {}
      },
      "cell_type": "code",
      "source": [
        "linear1 = torch.nn.Linear(128, 5, bias = True)\n",
        "linear2 = torch.nn.Linear(5, 10, bias = True)\n",
        "relu = torch.nn.ReLU()\n",
        "\n",
        "weight1 = list(linear1.parameters())\n",
        "weight2 = list(linear2.parameters())"
      ],
      "execution_count": 0,
      "outputs": []
    },
    {
      "metadata": {
        "id": "owzdwWRxjSnl",
        "colab_type": "code",
        "colab": {
          "base_uri": "https://localhost:8080/",
          "height": 71
        },
        "outputId": "8a18d283-2fb3-4670-8877-198d128b6229"
      },
      "cell_type": "code",
      "source": [
        "print('linear1' , linear1)\n",
        "print('linear2', linear2)\n",
        "print('relu', relu)\n",
        "\n"
      ],
      "execution_count": 23,
      "outputs": [
        {
          "output_type": "stream",
          "text": [
            "linear1 Linear(in_features=128, out_features=5, bias=True)\n",
            "linear2 Linear(in_features=5, out_features=10, bias=True)\n",
            "relu ReLU()\n"
          ],
          "name": "stdout"
        }
      ]
    },
    {
      "metadata": {
        "id": "aF64UrKVkUFF",
        "colab_type": "code",
        "colab": {
          "base_uri": "https://localhost:8080/",
          "height": 71
        },
        "outputId": "d2f1c1cd-593f-4111-be1e-02ea25762ffc"
      },
      "cell_type": "code",
      "source": [
        "print(len(weight1))\n",
        "print(weight1[0].size())\n",
        "print(weight1[1].size())"
      ],
      "execution_count": 24,
      "outputs": [
        {
          "output_type": "stream",
          "text": [
            "2\n",
            "torch.Size([5, 128])\n",
            "torch.Size([5])\n"
          ],
          "name": "stdout"
        }
      ]
    },
    {
      "metadata": {
        "id": "37bC14VJkpUs",
        "colab_type": "code",
        "colab": {
          "base_uri": "https://localhost:8080/",
          "height": 359
        },
        "outputId": "014bbeb1-670d-4a72-84c4-4a00cc2313a0"
      },
      "cell_type": "code",
      "source": [
        "print(weight1[0][0])\n",
        "print(weight1[1])"
      ],
      "execution_count": 29,
      "outputs": [
        {
          "output_type": "stream",
          "text": [
            "tensor([-0.0208, -0.0695, -0.0562, -0.0063, -0.0436,  0.0825,  0.0867, -0.0107,\n",
            "        -0.0165,  0.0268,  0.0271, -0.0103,  0.0859, -0.0708, -0.0434, -0.0597,\n",
            "         0.0740, -0.0355, -0.0048, -0.0268, -0.0690, -0.0702, -0.0669,  0.0023,\n",
            "         0.0272, -0.0311,  0.0365, -0.0808, -0.0409, -0.0384,  0.0658, -0.0427,\n",
            "        -0.0182, -0.0411,  0.0467,  0.0589, -0.0335, -0.0291, -0.0340,  0.0732,\n",
            "         0.0346, -0.0470,  0.0858,  0.0315, -0.0121, -0.0651,  0.0301,  0.0567,\n",
            "        -0.0298,  0.0349,  0.0071,  0.0625,  0.0609, -0.0284, -0.0005, -0.0006,\n",
            "        -0.0172,  0.0746,  0.0867, -0.0535, -0.0650, -0.0349,  0.0877, -0.0451,\n",
            "        -0.0649,  0.0500,  0.0267, -0.0134, -0.0878,  0.0543, -0.0299,  0.0178,\n",
            "        -0.0492,  0.0546, -0.0605,  0.0216, -0.0183,  0.0786,  0.0081, -0.0457,\n",
            "        -0.0100,  0.0209, -0.0500,  0.0170,  0.0065, -0.0145, -0.0157, -0.0594,\n",
            "        -0.0773, -0.0451,  0.0703,  0.0389,  0.0569,  0.0212,  0.0507,  0.0091,\n",
            "         0.0131,  0.0301,  0.0475, -0.0134,  0.0648,  0.0051,  0.0089, -0.0044,\n",
            "        -0.0388, -0.0367,  0.0786,  0.0284, -0.0223, -0.0599,  0.0464,  0.0592,\n",
            "         0.0420,  0.0747, -0.0471,  0.0379,  0.0726, -0.0214, -0.0463, -0.0875,\n",
            "         0.0149,  0.0672,  0.0202, -0.0547,  0.0164,  0.0575,  0.0800, -0.0661],\n",
            "       grad_fn=<SelectBackward>)\n",
            "Parameter containing:\n",
            "tensor([ 0.0310, -0.0189, -0.0188, -0.0169, -0.0197], requires_grad=True)\n"
          ],
          "name": "stdout"
        }
      ]
    },
    {
      "metadata": {
        "id": "Ttt9XYDxlg8d",
        "colab_type": "code",
        "colab": {
          "base_uri": "https://localhost:8080/",
          "height": 161
        },
        "outputId": "548a8dd3-282d-4e3d-b2f6-5d58add17f03"
      },
      "cell_type": "code",
      "source": [
        "input = torch.zeros(1,128)\n",
        "input[0][0] = 1.\n",
        "print(input)"
      ],
      "execution_count": 37,
      "outputs": [
        {
          "output_type": "stream",
          "text": [
            "tensor([[1., 0., 0., 0., 0., 0., 0., 0., 0., 0., 0., 0., 0., 0., 0., 0., 0., 0.,\n",
            "         0., 0., 0., 0., 0., 0., 0., 0., 0., 0., 0., 0., 0., 0., 0., 0., 0., 0.,\n",
            "         0., 0., 0., 0., 0., 0., 0., 0., 0., 0., 0., 0., 0., 0., 0., 0., 0., 0.,\n",
            "         0., 0., 0., 0., 0., 0., 0., 0., 0., 0., 0., 0., 0., 0., 0., 0., 0., 0.,\n",
            "         0., 0., 0., 0., 0., 0., 0., 0., 0., 0., 0., 0., 0., 0., 0., 0., 0., 0.,\n",
            "         0., 0., 0., 0., 0., 0., 0., 0., 0., 0., 0., 0., 0., 0., 0., 0., 0., 0.,\n",
            "         0., 0., 0., 0., 0., 0., 0., 0., 0., 0., 0., 0., 0., 0., 0., 0., 0., 0.,\n",
            "         0., 0.]])\n"
          ],
          "name": "stdout"
        }
      ]
    },
    {
      "metadata": {
        "id": "VAq2AC_Ilsud",
        "colab_type": "code",
        "colab": {
          "base_uri": "https://localhost:8080/",
          "height": 35
        },
        "outputId": "10da2400-6488-46d4-f64f-ddba340476ad"
      },
      "cell_type": "code",
      "source": [
        "x1 = linear1(input)\n",
        "print(x1)"
      ],
      "execution_count": 38,
      "outputs": [
        {
          "output_type": "stream",
          "text": [
            "tensor([[ 0.0102, -0.0364, -0.0001,  0.0562, -0.0158]], grad_fn=<ThAddmmBackward>)\n"
          ],
          "name": "stdout"
        }
      ]
    },
    {
      "metadata": {
        "id": "mMkSJ9uhkbDt",
        "colab_type": "code",
        "colab": {
          "base_uri": "https://localhost:8080/",
          "height": 71
        },
        "outputId": "322f0a7e-9e4e-4b28-8bd5-f784cffcd1a4"
      },
      "cell_type": "code",
      "source": [
        "print(len(weight2))\n",
        "print(weight2[0].size())\n",
        "print(weight2[1].size())"
      ],
      "execution_count": 25,
      "outputs": [
        {
          "output_type": "stream",
          "text": [
            "2\n",
            "torch.Size([10, 5])\n",
            "torch.Size([10])\n"
          ],
          "name": "stdout"
        }
      ]
    },
    {
      "metadata": {
        "id": "Y0PSnRkxid-o",
        "colab_type": "code",
        "colab": {}
      },
      "cell_type": "code",
      "source": [
        "input = torch.randn(16,8)"
      ],
      "execution_count": 0,
      "outputs": []
    },
    {
      "metadata": {
        "id": "B5I9O5M-i6PJ",
        "colab_type": "code",
        "colab": {}
      },
      "cell_type": "code",
      "source": [
        "result1 = linear1(input.view(-1,16*8))"
      ],
      "execution_count": 0,
      "outputs": []
    },
    {
      "metadata": {
        "id": "c3oFnw0LjCqz",
        "colab_type": "code",
        "colab": {
          "base_uri": "https://localhost:8080/",
          "height": 35
        },
        "outputId": "f6900f34-fd69-4ea0-afb9-0bb13dbf57e5"
      },
      "cell_type": "code",
      "source": [
        "print(result1)"
      ],
      "execution_count": 6,
      "outputs": [
        {
          "output_type": "stream",
          "text": [
            "tensor([[-0.4060,  0.3100,  0.8881, -1.5432,  1.3408]], grad_fn=<ThAddmmBackward>)\n"
          ],
          "name": "stdout"
        }
      ]
    },
    {
      "metadata": {
        "id": "8z3R1QbDjEHe",
        "colab_type": "code",
        "colab": {}
      },
      "cell_type": "code",
      "source": [
        ""
      ],
      "execution_count": 0,
      "outputs": []
    }
  ]
}